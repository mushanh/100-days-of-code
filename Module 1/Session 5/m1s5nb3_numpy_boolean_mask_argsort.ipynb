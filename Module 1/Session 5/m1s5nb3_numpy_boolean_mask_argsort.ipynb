{
  "cells": [
    {
      "cell_type": "markdown",
      "metadata": {
        "id": "view-in-github",
        "colab_type": "text"
      },
      "source": [
        "<a href=\"https://colab.research.google.com/github/mushanh/100-days-of-code/blob/master/Module%201/Session%205/m1s5nb3_numpy_boolean_mask_argsort.ipynb\" target=\"_parent\"><img src=\"https://colab.research.google.com/assets/colab-badge.svg\" alt=\"Open In Colab\"/></a>"
      ]
    },
    {
      "cell_type": "markdown",
      "id": "0acde91d",
      "metadata": {
        "id": "0acde91d"
      },
      "source": [
        "# Numpy Boolean Masks and argsort()"
      ]
    },
    {
      "cell_type": "code",
      "execution_count": 2,
      "id": "1c9e9523",
      "metadata": {
        "id": "1c9e9523"
      },
      "outputs": [],
      "source": [
        "import numpy as np"
      ]
    },
    {
      "cell_type": "markdown",
      "id": "9f991718",
      "metadata": {
        "id": "9f991718"
      },
      "source": [
        "### Why are we covering these two topics?\n",
        "\n",
        "#### Historically, students have had difficulty understanding these two concepts when asked to use them in homework and exam exercises. So we introduce them here, to help with that understanding. We will not be doing complex exercises here, but simply introducing the concepts."
      ]
    },
    {
      "cell_type": "markdown",
      "id": "079ca192",
      "metadata": {
        "id": "079ca192"
      },
      "source": [
        "# Numpy boolean masks"
      ]
    },
    {
      "cell_type": "markdown",
      "id": "e74cb74e",
      "metadata": {
        "id": "e74cb74e"
      },
      "source": [
        "### What is a boolean mask?\n",
        "\n",
        "**In pandas, as we saw earlier, a mask is used filter and return only the rows that meet a certain condition.**\n",
        "\n",
        "**In numpy however, a mask creates a \"truth array\" of the same shape as the source array being compared.**\n",
        "\n",
        "**Each element in the \"truth array\" will have a value of either `True` or `False`, depending on the result of the comparison on that element in the source array.**\n",
        "\n",
        "**You can then use the truth array to filter/select only the source array elements that you need in your exercise.**"
      ]
    },
    {
      "cell_type": "code",
      "execution_count": 3,
      "id": "8e615152",
      "metadata": {
        "id": "8e615152",
        "outputId": "85365215-95c6-46e6-87ae-319472254aed",
        "colab": {
          "base_uri": "https://localhost:8080/",
          "height": 71
        }
      },
      "outputs": [
        {
          "output_type": "display_data",
          "data": {
            "text/plain": [
              "array([[2, 8, 2],\n",
              "       [3, 2, 1],\n",
              "       [4, 3, 3]])"
            ]
          },
          "metadata": {}
        }
      ],
      "source": [
        "# create two 2x2 numpy arrays\n",
        "a = np.random.randint(0,10,(3,3))\n",
        "display(a)"
      ]
    },
    {
      "cell_type": "code",
      "execution_count": 4,
      "id": "679ed47a",
      "metadata": {
        "id": "679ed47a",
        "outputId": "0eed97a5-2a2f-4d2a-ed22-ff464602570b",
        "colab": {
          "base_uri": "https://localhost:8080/"
        }
      },
      "outputs": [
        {
          "output_type": "execute_result",
          "data": {
            "text/plain": [
              "array([[ True, False,  True],\n",
              "       [ True,  True,  True],\n",
              "       [ True,  True,  True]])"
            ]
          },
          "metadata": {},
          "execution_count": 4
        }
      ],
      "source": [
        "a < 5 #a boolean mask"
      ]
    },
    {
      "cell_type": "code",
      "execution_count": 5,
      "id": "91d147c7",
      "metadata": {
        "id": "91d147c7",
        "outputId": "08cdb23d-2044-4e15-d2db-5807c9afa090",
        "colab": {
          "base_uri": "https://localhost:8080/",
          "height": 88
        }
      },
      "outputs": [
        {
          "output_type": "display_data",
          "data": {
            "text/plain": [
              "array([[ True, False,  True],\n",
              "       [ True,  True,  True],\n",
              "       [ True,  True,  True]])"
            ]
          },
          "metadata": {}
        },
        {
          "output_type": "display_data",
          "data": {
            "text/plain": [
              "dtype('bool')"
            ]
          },
          "metadata": {}
        }
      ],
      "source": [
        "# using parentheses for readability\n",
        "truth_less_than_five = (a < 5)\n",
        "display(truth_less_than_five)\n",
        "display(truth_less_than_five.dtype)"
      ]
    },
    {
      "cell_type": "code",
      "execution_count": 6,
      "id": "31eebe75",
      "metadata": {
        "id": "31eebe75",
        "outputId": "780dad02-e52b-4bd7-b082-c6db2c4488da",
        "colab": {
          "base_uri": "https://localhost:8080/",
          "height": 88
        }
      },
      "outputs": [
        {
          "output_type": "display_data",
          "data": {
            "text/plain": [
              "array([[False,  True, False],\n",
              "       [False, False, False],\n",
              "       [False, False, False]])"
            ]
          },
          "metadata": {}
        },
        {
          "output_type": "display_data",
          "data": {
            "text/plain": [
              "dtype('bool')"
            ]
          },
          "metadata": {}
        }
      ],
      "source": [
        "# using parentheses for readability\n",
        "truth_greater_equal_five = (a >= 5)\n",
        "display(truth_greater_equal_five)\n",
        "display(truth_greater_equal_five.dtype)"
      ]
    },
    {
      "cell_type": "markdown",
      "id": "884a7ed2",
      "metadata": {
        "id": "884a7ed2"
      },
      "source": [
        "Now to select these values from the array, we can simply index on this Boolean array; this is known as a masking operation:"
      ]
    },
    {
      "cell_type": "code",
      "execution_count": 11,
      "id": "1a35c716",
      "metadata": {
        "id": "1a35c716",
        "outputId": "26a1c608-8917-4c06-b70b-ec78568d00e8",
        "colab": {
          "base_uri": "https://localhost:8080/"
        }
      },
      "outputs": [
        {
          "output_type": "execute_result",
          "data": {
            "text/plain": [
              "array([2, 2, 3, 2, 1, 4, 3, 3])"
            ]
          },
          "metadata": {},
          "execution_count": 11
        }
      ],
      "source": [
        "a[a < 5]"
      ]
    },
    {
      "cell_type": "code",
      "execution_count": 8,
      "id": "cd3dec44",
      "metadata": {
        "id": "cd3dec44",
        "outputId": "2bf8b895-ab79-4f28-a785-7eab71a2cc0c",
        "colab": {
          "base_uri": "https://localhost:8080/"
        }
      },
      "outputs": [
        {
          "output_type": "execute_result",
          "data": {
            "text/plain": [
              "array([2, 2, 3, 2, 1, 4, 3, 3])"
            ]
          },
          "metadata": {},
          "execution_count": 8
        }
      ],
      "source": [
        "a[truth_less_than_five]"
      ]
    },
    {
      "cell_type": "markdown",
      "id": "33ea6a5a",
      "metadata": {
        "id": "33ea6a5a"
      },
      "source": [
        "What is returned is a one-dimensional array filled with all the values that meet this condition; in other words, all the values in positions at which the mask array is `True`.\n",
        "\n",
        "**We can then use these values as required in the exercise. This is the key takeaway here. When we want to filter/return only the values that meet some criteria, we want to use a Boolean Mask to do so.**"
      ]
    },
    {
      "cell_type": "markdown",
      "id": "235d9092",
      "metadata": {
        "id": "235d9092"
      },
      "source": [
        "**You will see applications of this in the homework notebooks and sample/practice midterm and final exam notebooks.**"
      ]
    },
    {
      "cell_type": "markdown",
      "id": "ffd98d10",
      "metadata": {
        "id": "ffd98d10"
      },
      "source": [
        "The numpy documentation has an excellent reference on the logic and functions you can use when applying Boolean Masks:  https://numpy.org/doc/stable/reference/routines.logic.html\n",
        "\n",
        "As noted previously, Vanderplas has a good introduction to Boolean Masks in his book:  https://jakevdp.github.io/PythonDataScienceHandbook/02.06-boolean-arrays-and-masks.html"
      ]
    },
    {
      "cell_type": "markdown",
      "id": "aa86e53c",
      "metadata": {
        "id": "aa86e53c"
      },
      "source": [
        "### What are your questions on Boolean Masks?"
      ]
    },
    {
      "cell_type": "code",
      "source": [
        "a"
      ],
      "metadata": {
        "id": "XFcPHdV1trPy",
        "outputId": "8102c219-6dd1-44d2-c7b8-ee8de8a99c33",
        "colab": {
          "base_uri": "https://localhost:8080/"
        }
      },
      "id": "XFcPHdV1trPy",
      "execution_count": 12,
      "outputs": [
        {
          "output_type": "execute_result",
          "data": {
            "text/plain": [
              "array([[2, 8, 2],\n",
              "       [3, 2, 1],\n",
              "       [4, 3, 3]])"
            ]
          },
          "metadata": {},
          "execution_count": 12
        }
      ]
    },
    {
      "cell_type": "code",
      "source": [
        "print(np.where(truth_less_than_five, a, 0))"
      ],
      "metadata": {
        "id": "qJQplzmhttO1",
        "outputId": "87201f60-a886-44e3-8ad7-67cb90c48845",
        "colab": {
          "base_uri": "https://localhost:8080/"
        }
      },
      "id": "qJQplzmhttO1",
      "execution_count": 21,
      "outputs": [
        {
          "output_type": "stream",
          "name": "stdout",
          "text": [
            "[[2 0 2]\n",
            " [3 2 1]\n",
            " [4 3 3]]\n"
          ]
        }
      ]
    },
    {
      "cell_type": "markdown",
      "id": "4dcaec59",
      "metadata": {
        "id": "4dcaec59"
      },
      "source": [
        "# argsort() function\n",
        "\n",
        "Documentation link:  https://numpy.org/doc/stable/reference/generated/numpy.argsort.html"
      ]
    },
    {
      "cell_type": "markdown",
      "id": "d0c76ab3",
      "metadata": {
        "id": "d0c76ab3"
      },
      "source": [
        "### The np.argsort() function is used to return the indices that would sort an array.\n",
        "\n",
        "#### So the function returns an array of indexes of the same shape as `a` that index data along the given axis in sorted order (from the documentation)."
      ]
    },
    {
      "cell_type": "markdown",
      "id": "cd738c57",
      "metadata": {
        "id": "cd738c57"
      },
      "source": [
        "OK, so what does this mean, in practice?\n",
        "\n",
        "The function will return an integer array, with the same shape as the source array, with the values being the index locations of the sorted source array values. The returned array does not sort the values themselves, but it gives us what the order of the sorted values would be.\n",
        "\n",
        "Let's look at a simple example for understanding."
      ]
    },
    {
      "cell_type": "code",
      "execution_count": 22,
      "id": "6fc6d43c",
      "metadata": {
        "id": "6fc6d43c",
        "outputId": "581b0f31-a37f-47a0-9b81-1ef494e89a9e",
        "colab": {
          "base_uri": "https://localhost:8080/"
        }
      },
      "outputs": [
        {
          "output_type": "execute_result",
          "data": {
            "text/plain": [
              "array([3, 4, 2, 1, 5, 0])"
            ]
          },
          "metadata": {},
          "execution_count": 22
        }
      ],
      "source": [
        "a = np.array([5, 3, 2, 0, 1, 4])\n",
        "np.argsort(a)"
      ]
    },
    {
      "cell_type": "markdown",
      "id": "d1e894fe",
      "metadata": {
        "id": "d1e894fe"
      },
      "source": [
        "OK, so what is this array telling us?\n",
        "\n",
        "1. The element at index = 3 is the first element in the sorted order (0 is the lowest value).\n",
        "2. The element at index = 4 is the second element in the sorted order (1 is the next lowest value).\n",
        "3. The element at index = 2 is the third element in the sorted order (2 is the next lowest value).\n",
        ".......\n",
        "4. The element at index = 0 is the largest element in the sorted order (5 is the highest value)."
      ]
    },
    {
      "cell_type": "markdown",
      "id": "03a73098",
      "metadata": {
        "id": "03a73098"
      },
      "source": [
        "Does it sort float values in the same manner?"
      ]
    },
    {
      "cell_type": "code",
      "execution_count": 23,
      "id": "7032437c",
      "metadata": {
        "id": "7032437c",
        "outputId": "a9488106-b812-47c9-e662-322d5d685b6c",
        "colab": {
          "base_uri": "https://localhost:8080/"
        }
      },
      "outputs": [
        {
          "output_type": "execute_result",
          "data": {
            "text/plain": [
              "array([3, 4, 2, 1, 5, 0])"
            ]
          },
          "metadata": {},
          "execution_count": 23
        }
      ],
      "source": [
        "b = np.array([5.0, 3.0, 2.0, 0.0, 1.0, 4.0])\n",
        "np.argsort(b)"
      ]
    },
    {
      "cell_type": "markdown",
      "id": "0a833cf4",
      "metadata": {
        "id": "0a833cf4"
      },
      "source": [
        "What about strings?"
      ]
    },
    {
      "cell_type": "code",
      "execution_count": 24,
      "id": "039ca3fa",
      "metadata": {
        "id": "039ca3fa",
        "outputId": "247dbab3-855c-4958-a328-a27dda94ed9d",
        "colab": {
          "base_uri": "https://localhost:8080/"
        }
      },
      "outputs": [
        {
          "output_type": "execute_result",
          "data": {
            "text/plain": [
              "array([4, 3, 1, 0, 5, 2])"
            ]
          },
          "metadata": {},
          "execution_count": 24
        }
      ],
      "source": [
        "c = np.array(['p','m','x','h','a','t'])\n",
        "np.argsort(c)"
      ]
    },
    {
      "cell_type": "markdown",
      "id": "1f72a3e4",
      "metadata": {
        "id": "1f72a3e4"
      },
      "source": [
        "Now let's look at a simple example. While this may seem fairly straightforward, conceptually, this is the types of exercise that you will see in the homework notebooks and on the exams."
      ]
    },
    {
      "cell_type": "markdown",
      "id": "adb2b4c7",
      "metadata": {
        "id": "adb2b4c7"
      },
      "source": [
        "**Requirement:**\n",
        "\n",
        "What are the three largest values in an array?\n",
        "\n",
        "Return a numpy array with these three values."
      ]
    },
    {
      "cell_type": "code",
      "execution_count": 25,
      "id": "f054ff23",
      "metadata": {
        "id": "f054ff23",
        "outputId": "1ee9dd0b-760f-48f9-e9ee-556f2922a895",
        "colab": {
          "base_uri": "https://localhost:8080/"
        }
      },
      "outputs": [
        {
          "output_type": "execute_result",
          "data": {
            "text/plain": [
              "array([ 68,  43,   2, 100,  54,   5,  12,  76,  23,  37])"
            ]
          },
          "metadata": {},
          "execution_count": 25
        }
      ],
      "source": [
        "# intialize an array\n",
        "a = np.array([68,43,2,100,54,5,12,76,23,37])\n",
        "a"
      ]
    },
    {
      "cell_type": "code",
      "source": [
        "a_index = a.argsort()\n",
        "largest = a[a_index][-1]\n",
        "second_largest = a[a_index][-2]\n",
        "\n",
        "third_largest = a[a_index][-3]\n",
        "print(largest, second_largest, third_largest)"
      ],
      "metadata": {
        "id": "zexpIUC5vpBu",
        "outputId": "d724819a-bd44-4879-f798-825d0cc4704e",
        "colab": {
          "base_uri": "https://localhost:8080/"
        }
      },
      "id": "zexpIUC5vpBu",
      "execution_count": 28,
      "outputs": [
        {
          "output_type": "stream",
          "name": "stdout",
          "text": [
            "100 76 68\n"
          ]
        }
      ]
    },
    {
      "cell_type": "markdown",
      "id": "a4a554bd",
      "metadata": {
        "id": "a4a554bd"
      },
      "source": [
        "Using visual inspection, what are the three largest values?\n",
        "\n",
        "1. Value = 100, at index 3.\n",
        "2. Value = 76, at index 7.\n",
        "3. Value = 68, at index 0."
      ]
    },
    {
      "cell_type": "code",
      "execution_count": 29,
      "id": "17919a52",
      "metadata": {
        "id": "17919a52",
        "outputId": "b72ad63a-4573-4352-ece9-6d7010abf1bb",
        "colab": {
          "base_uri": "https://localhost:8080/"
        }
      },
      "outputs": [
        {
          "output_type": "execute_result",
          "data": {
            "text/plain": [
              "array([2, 5, 6, 8, 9, 1, 4, 0, 7, 3])"
            ]
          },
          "metadata": {},
          "execution_count": 29
        }
      ],
      "source": [
        "# using argsort, get indices of the values, arranged in ascending order\n",
        "np.argsort(a)"
      ]
    },
    {
      "cell_type": "markdown",
      "id": "700e0d42",
      "metadata": {
        "id": "700e0d42"
      },
      "source": [
        "#### Recall slicing of arrays, for the cells below.\n",
        "\n",
        "We use square brackets to access subarrays with the slice notation, marked by the colon (:) character. The NumPy slicing syntax follows that of the standard Python list; to access a slice of an array x, use this:\n",
        "\n",
        "**x[start:stop:step]**\n",
        "\n",
        "If any of these are unspecified, they default to the values `start=0`, `stop=size of dimension`, `step=1`.\n",
        "\n",
        "\n",
        "Good reference, go down about 1/3rd of the page:  https://jakevdp.github.io/PythonDataScienceHandbook/02.02-the-basics-of-numpy-arrays.html"
      ]
    },
    {
      "cell_type": "code",
      "execution_count": 30,
      "id": "6c95376f",
      "metadata": {
        "id": "6c95376f",
        "outputId": "e6213175-2750-42da-e3ef-51df705b04ac",
        "colab": {
          "base_uri": "https://localhost:8080/"
        }
      },
      "outputs": [
        {
          "output_type": "execute_result",
          "data": {
            "text/plain": [
              "array([0, 7, 3])"
            ]
          },
          "metadata": {},
          "execution_count": 30
        }
      ],
      "source": [
        "# return three highest value index of array\n",
        "# In the slice notation, we are telling it to return the last three values of the sort array,\n",
        "# which are the indexes of the three largest values in the original array.\n",
        "np.argsort(a)[-3::]"
      ]
    },
    {
      "cell_type": "markdown",
      "id": "b52088d2",
      "metadata": {
        "id": "b52088d2"
      },
      "source": [
        "Note that in the above, we have included both sets of `colons` in the code `[::]`.\n",
        "\n",
        "Because we are only defining the first part of the slice notation (give us the last three elements), we actually don't **NEED** the second colon.\n",
        "\n",
        "So the two lines below are equivalent.\n",
        "\n",
        "We are using the code with **BOTH COLONS** `[::]` for ease of understanding."
      ]
    },
    {
      "cell_type": "code",
      "execution_count": 31,
      "id": "a0db7a6d",
      "metadata": {
        "id": "a0db7a6d",
        "outputId": "eb0673dd-87b2-4c97-877f-442049e475e5",
        "colab": {
          "base_uri": "https://localhost:8080/",
          "height": 53
        }
      },
      "outputs": [
        {
          "output_type": "display_data",
          "data": {
            "text/plain": [
              "array([0, 7, 3])"
            ]
          },
          "metadata": {}
        },
        {
          "output_type": "display_data",
          "data": {
            "text/plain": [
              "array([0, 7, 3])"
            ]
          },
          "metadata": {}
        }
      ],
      "source": [
        "# the two lines of code below are equivalent\n",
        "display(np.argsort(a)[-3::])\n",
        "display(np.argsort(a)[-3:])"
      ]
    },
    {
      "cell_type": "code",
      "execution_count": 32,
      "id": "8cc6e939",
      "metadata": {
        "id": "8cc6e939",
        "outputId": "b1b3a891-d877-4e30-bdf6-dd28623e201e",
        "colab": {
          "base_uri": "https://localhost:8080/"
        }
      },
      "outputs": [
        {
          "output_type": "execute_result",
          "data": {
            "text/plain": [
              "array([3, 7, 0])"
            ]
          },
          "metadata": {},
          "execution_count": 32
        }
      ],
      "source": [
        "# Now let's arrange the sort array in ascending order of index, for the top three\n",
        "# We are taking the array from the previous cell and using slice notation\n",
        "# to sort the indexes in reverse order (step = -1)\n",
        "# Note that we are still returning the indexes from the original array.\n",
        "np.argsort(a)[-3::][::-1]"
      ]
    },
    {
      "cell_type": "code",
      "execution_count": null,
      "id": "86e42dcc",
      "metadata": {
        "id": "86e42dcc"
      },
      "outputs": [],
      "source": [
        "# Finally, let's return the 3 highest values from the original array\n",
        "# Remember from the last step the we are returning, in sorted order, the\n",
        "# indexes of the top three values.\n",
        "# So all we are doing now is returning the values at those indexes.\n",
        "a[np.argsort(a)[-3::][::-1]]"
      ]
    },
    {
      "cell_type": "code",
      "execution_count": 33,
      "id": "b0891722",
      "metadata": {
        "id": "b0891722",
        "outputId": "2da37c81-4173-4d0c-de6b-44dafb36456f",
        "colab": {
          "base_uri": "https://localhost:8080/"
        }
      },
      "outputs": [
        {
          "output_type": "execute_result",
          "data": {
            "text/plain": [
              "array([100,  76,  68])"
            ]
          },
          "metadata": {},
          "execution_count": 33
        }
      ],
      "source": [
        "# This is the same as:\n",
        "a[[3,7,0]]"
      ]
    },
    {
      "cell_type": "code",
      "source": [
        "a"
      ],
      "metadata": {
        "id": "qcpsdSyRxqc5",
        "outputId": "7df6e3bf-fb09-4daf-a6db-64c41635d5aa",
        "colab": {
          "base_uri": "https://localhost:8080/"
        }
      },
      "id": "qcpsdSyRxqc5",
      "execution_count": 34,
      "outputs": [
        {
          "output_type": "execute_result",
          "data": {
            "text/plain": [
              "array([ 68,  43,   2, 100,  54,   5,  12,  76,  23,  37])"
            ]
          },
          "metadata": {},
          "execution_count": 34
        }
      ]
    },
    {
      "cell_type": "markdown",
      "id": "e07726a0",
      "metadata": {
        "id": "e07726a0"
      },
      "source": [
        "### What are your questions on argsort()?"
      ]
    },
    {
      "cell_type": "code",
      "source": [
        "a_sorted = sorted(a)\n",
        "print(a_sorted)\n",
        "print(a)"
      ],
      "metadata": {
        "id": "i_LOluJAxuPr",
        "outputId": "83463065-889a-4797-b619-731f556a638c",
        "colab": {
          "base_uri": "https://localhost:8080/"
        }
      },
      "id": "i_LOluJAxuPr",
      "execution_count": 36,
      "outputs": [
        {
          "output_type": "stream",
          "name": "stdout",
          "text": [
            "[2, 5, 12, 23, 37, 43, 54, 68, 76, 100]\n",
            "[ 68  43   2 100  54   5  12  76  23  37]\n"
          ]
        }
      ]
    },
    {
      "cell_type": "code",
      "source": [],
      "metadata": {
        "id": "R3Gg_cDjxzMA"
      },
      "id": "R3Gg_cDjxzMA",
      "execution_count": null,
      "outputs": []
    }
  ],
  "metadata": {
    "colab": {
      "provenance": [],
      "include_colab_link": true
    },
    "kernelspec": {
      "display_name": "Python 3 (ipykernel)",
      "language": "python",
      "name": "python3"
    },
    "language_info": {
      "codemirror_mode": {
        "name": "ipython",
        "version": 3
      },
      "file_extension": ".py",
      "mimetype": "text/x-python",
      "name": "python",
      "nbconvert_exporter": "python",
      "pygments_lexer": "ipython3",
      "version": "3.9.13"
    }
  },
  "nbformat": 4,
  "nbformat_minor": 5
}